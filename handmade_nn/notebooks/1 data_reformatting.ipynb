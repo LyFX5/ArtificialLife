{
 "cells": [
  {
   "cell_type": "code",
   "execution_count": 1,
   "id": "bd0b4270",
   "metadata": {},
   "outputs": [],
   "source": [
    "import gzip\n",
    "import numpy as np\n",
    "from pathlib import Path\n",
    "import matplotlib.pyplot as plt\n",
    "%matplotlib inline"
   ]
  },
  {
   "cell_type": "markdown",
   "id": "ec961e6d",
   "metadata": {},
   "source": [
    "## Извлечение исходных данных из архивов"
   ]
  },
  {
   "cell_type": "code",
   "execution_count": 2,
   "id": "c5124b9a",
   "metadata": {},
   "outputs": [],
   "source": [
    "project_path =  Path.cwd().parent\n",
    "data_path = project_path / \"data\"\n",
    "raw_path = data_path / \"raw\"\n",
    "preproc_path = data_path / \"preprocessed\"\n",
    "\n",
    "files = [\n",
    "\"train-images-idx3-ubyte\",\n",
    "\"train-labels-idx1-ubyte\",\n",
    "\"t10k-images-idx3-ubyte\",\n",
    "\"t10k-labels-idx1-ubyte\"\n",
    "]\n",
    "\n",
    "source_train_im_path = preproc_path / \"train-images-idx3-ubyte.bin\"\n",
    "source_train_l_path = preproc_path / \"train-labels-idx1-ubyte.bin\"\n",
    "source_test_im_path = preproc_path / \"t10k-images-idx3-ubyte.bin\"\n",
    "source_test_l_path = preproc_path / \"t10k-labels-idx1-ubyte.bin\"\n"
   ]
  },
  {
   "cell_type": "code",
   "execution_count": 3,
   "id": "3debc6c0",
   "metadata": {},
   "outputs": [],
   "source": [
    "for base in files:\n",
    "    with open(raw_path / (base + \".gz\"), \"rb\") as f:\n",
    "        decompressed = gzip.decompress(f.read())\n",
    "    with open(preproc_path / (base + \".bin\"), \"wb\") as f:\n",
    "        f.write(decompressed)"
   ]
  },
  {
   "cell_type": "markdown",
   "id": "83880f5d",
   "metadata": {},
   "source": [
    "## Считывание данных из бинарных файлов"
   ]
  },
  {
   "cell_type": "markdown",
   "id": "d4f8ce88",
   "metadata": {},
   "source": [
    "### Обучающая выборка"
   ]
  },
  {
   "cell_type": "code",
   "execution_count": 4,
   "id": "6eff6d1f",
   "metadata": {},
   "outputs": [
    {
     "data": {
      "image/png": "[encoded data removed]",
      "text/plain": [
       "<Figure size 432x288 with 1 Axes>"
      ]
     },
     "metadata": {
      "needs_background": "light"
     },
     "output_type": "display_data"
    }
   ],
   "source": [
    "# Метки обуающей выборки\n",
    "train_labels = np.fromfile(source_train_l_path, dtype=np.uint8, offset=8)\n",
    "plt.hist(train_labels);"
   ]
  },
  {
   "cell_type": "code",
   "execution_count": 5,
   "id": "b077babf",
   "metadata": {},
   "outputs": [
    {
     "data": {
      "text/plain": [
       "<matplotlib.image.AxesImage at 0x7ff4daa56e50>"
      ]
     },
     "execution_count": 5,
     "metadata": {},
     "output_type": "execute_result"
    },
    {
     "data": {
      "image/png": "[encoded data removed]",
      "text/plain": [
       "<Figure size 432x288 with 1 Axes>"
      ]
     },
     "metadata": {
      "needs_background": "light"
     },
     "output_type": "display_data"
    }
   ],
   "source": [
    "# Изображения обучающей выборки\n",
    "train_size, rows, columns = 60000, 28, 28\n",
    "train_images = np.fromfile(source_train_im_path, dtype=np.uint8, offset=16).reshape((train_size, rows, columns))\n",
    "plt.imshow(train_images[1,:,:], cmap='gray')"
   ]
  },
  {
   "cell_type": "markdown",
   "id": "76ca47d0",
   "metadata": {},
   "source": [
    "### Тестовая выборка"
   ]
  },
  {
   "cell_type": "code",
   "execution_count": 6,
   "id": "3cf48684",
   "metadata": {},
   "outputs": [
    {
     "data": {
      "image/png": "[encoded data removed]",
      "text/plain": [
       "<Figure size 432x288 with 1 Axes>"
      ]
     },
     "metadata": {
      "needs_background": "light"
     },
     "output_type": "display_data"
    }
   ],
   "source": [
    "# Метки тестовой выборки\n",
    "test_labels = np.fromfile(source_test_l_path, dtype=np.uint8, offset=8)\n",
    "plt.hist(test_labels);"
   ]
  },
  {
   "cell_type": "code",
   "execution_count": 7,
   "id": "0a12f961",
   "metadata": {},
   "outputs": [
    {
     "data": {
      "text/plain": [
       "<matplotlib.image.AxesImage at 0x7ff4da9c6fd0>"
      ]
     },
     "execution_count": 7,
     "metadata": {},
     "output_type": "execute_result"
    },
    {
     "data": {
      "image/png": "[encoded data removed]",
      "text/plain": [
       "<Figure size 432x288 with 1 Axes>"
      ]
     },
     "metadata": {
      "needs_background": "light"
     },
     "output_type": "display_data"
    }
   ],
   "source": [
    "# Изображения тестовой выборки\n",
    "test_size, rows, columns = 10000, 28, 28\n",
    "test_images = np.fromfile(source_test_im_path, dtype=np.uint8, offset=16).reshape((test_size, rows, columns))\n",
    "plt.imshow(test_images[1,:,:], cmap='gray')"
   ]
  },
  {
   "cell_type": "code",
   "execution_count": 8,
   "id": "109f111c",
   "metadata": {},
   "outputs": [],
   "source": [
    "import sys\n",
    "sys.path.append('../')"
   ]
  },
  {
   "cell_type": "code",
   "execution_count": 9,
   "id": "3a5342c2",
   "metadata": {},
   "outputs": [],
   "source": [
    "from core.models import MNISTDense\n",
    "from core.initializers import He, Xavier\n",
    "from core.optimizers import GradDesc\n",
    "from core.layers import Dense\n",
    "from core.losses import Crossentropy\n",
    "from core.activations import ReLu, Softmax"
   ]
  },
  {
   "cell_type": "code",
   "execution_count": 10,
   "id": "2832d46e",
   "metadata": {},
   "outputs": [],
   "source": [
    "n_train = 1000\n",
    "n_classes = 10\n",
    "prepared_labels = train_labels[:n_train]\n",
    "prepared_images = train_images[:n_train].reshape(n_train, -1)\n",
    "prepared_images = (prepared_images > 0).astype(np.uint8)"
   ]
  },
  {
   "cell_type": "code",
   "execution_count": 11,
   "id": "4c23558d",
   "metadata": {},
   "outputs": [],
   "source": [
    "model = MNISTDense(\n",
    "    input_size=28*28,\n",
    "    layers_sizes=[64, 32, 10],\n",
    "    initializers_classes=[He, He, He],\n",
    "    activations_classes=[ReLu, ReLu, Softmax],\n",
    "    optimizer=GradDesc(0.000001),\n",
    "    loss=Crossentropy\n",
    ")"
   ]
  },
  {
   "cell_type": "code",
   "execution_count": 12,
   "id": "a5b90006",
   "metadata": {},
   "outputs": [
    {
     "ename": "AttributeError",
     "evalue": "'MNISTDense' object has no attribute 'layers_size'",
     "output_type": "error",
     "traceback": [
      "\u001b[0;31m---------------------------------------------------------------------------\u001b[0m",
      "\u001b[0;31mAttributeError\u001b[0m                            Traceback (most recent call last)",
      "\u001b[0;32m/tmp/ipykernel_4922/31655401.py\u001b[0m in \u001b[0;36m<module>\u001b[0;34m\u001b[0m\n\u001b[0;32m----> 1\u001b[0;31m \u001b[0mhistory\u001b[0m \u001b[0;34m=\u001b[0m \u001b[0mmodel\u001b[0m\u001b[0;34m.\u001b[0m\u001b[0mfit\u001b[0m\u001b[0;34m(\u001b[0m\u001b[0;36m2\u001b[0m\u001b[0;34m,\u001b[0m \u001b[0;36m32\u001b[0m\u001b[0;34m,\u001b[0m \u001b[0mprepared_images\u001b[0m\u001b[0;34m,\u001b[0m \u001b[0mprepared_labels\u001b[0m\u001b[0;34m)\u001b[0m\u001b[0;34m\u001b[0m\u001b[0;34m\u001b[0m\u001b[0m\n\u001b[0m",
      "\u001b[0;32m~/MIPT/second_sem/DeepLearning/handmade_nn/notebooks/../core/models.py\u001b[0m in \u001b[0;36mfit\u001b[0;34m(self, epoch, batch_size, train_samples, train_targets)\u001b[0m\n\u001b[1;32m     78\u001b[0m                 \u001b[0merror_grad\u001b[0m \u001b[0;34m=\u001b[0m \u001b[0mself\u001b[0m\u001b[0;34m.\u001b[0m\u001b[0mloss\u001b[0m\u001b[0;34m.\u001b[0m\u001b[0mgrad\u001b[0m\u001b[0;34m(\u001b[0m\u001b[0moutput\u001b[0m\u001b[0;34m,\u001b[0m \u001b[0mtargets\u001b[0m\u001b[0;34m)\u001b[0m\u001b[0;34m\u001b[0m\u001b[0;34m\u001b[0m\u001b[0m\n\u001b[1;32m     79\u001b[0m                 \u001b[0;32mfor\u001b[0m \u001b[0mj\u001b[0m\u001b[0;34m,\u001b[0m \u001b[0;34m(\u001b[0m\u001b[0mlayer\u001b[0m\u001b[0;34m,\u001b[0m \u001b[0minp_size\u001b[0m\u001b[0;34m,\u001b[0m \u001b[0mout_size\u001b[0m\u001b[0;34m)\u001b[0m\u001b[0;31m\\\u001b[0m\u001b[0;34m\u001b[0m\u001b[0;34m\u001b[0m\u001b[0m\n\u001b[0;32m---> 80\u001b[0;31m                      \u001b[0;32min\u001b[0m \u001b[0menumerate\u001b[0m\u001b[0;34m(\u001b[0m\u001b[0mzip\u001b[0m\u001b[0;34m(\u001b[0m\u001b[0mself\u001b[0m\u001b[0;34m.\u001b[0m\u001b[0mlayers\u001b[0m\u001b[0;34m[\u001b[0m\u001b[0;34m:\u001b[0m\u001b[0;34m:\u001b[0m\u001b[0;34m-\u001b[0m\u001b[0;36m1\u001b[0m\u001b[0;34m]\u001b[0m\u001b[0;34m,\u001b[0m \u001b[0mself\u001b[0m\u001b[0;34m.\u001b[0m\u001b[0mlayers_sizes\u001b[0m\u001b[0;34m[\u001b[0m\u001b[0;34m-\u001b[0m\u001b[0;36m2\u001b[0m\u001b[0;34m:\u001b[0m\u001b[0;34m:\u001b[0m\u001b[0;34m-\u001b[0m\u001b[0;36m1\u001b[0m\u001b[0;34m]\u001b[0m \u001b[0;34m+\u001b[0m \u001b[0;34m[\u001b[0m\u001b[0mself\u001b[0m\u001b[0;34m.\u001b[0m\u001b[0minput_size\u001b[0m\u001b[0;34m]\u001b[0m\u001b[0;34m,\u001b[0m \u001b[0mself\u001b[0m\u001b[0;34m.\u001b[0m\u001b[0mlayers_size\u001b[0m\u001b[0;34m[\u001b[0m\u001b[0;34m:\u001b[0m\u001b[0;34m:\u001b[0m\u001b[0;34m-\u001b[0m\u001b[0;36m1\u001b[0m\u001b[0;34m]\u001b[0m\u001b[0;34m)\u001b[0m\u001b[0;34m)\u001b[0m\u001b[0;34m:\u001b[0m \u001b[0;31m# распространение назад\u001b[0m\u001b[0;34m\u001b[0m\u001b[0;34m\u001b[0m\u001b[0m\n\u001b[0m\u001b[1;32m     81\u001b[0m                     \u001b[0minputs\u001b[0m \u001b[0;34m=\u001b[0m \u001b[0mlayers_inputs\u001b[0m\u001b[0;34m[\u001b[0m\u001b[0;34m:\u001b[0m\u001b[0;34m,\u001b[0m \u001b[0;34m-\u001b[0m\u001b[0;34m(\u001b[0m\u001b[0mj\u001b[0m\u001b[0;34m+\u001b[0m\u001b[0;36m2\u001b[0m\u001b[0;34m)\u001b[0m\u001b[0;34m,\u001b[0m \u001b[0;34m:\u001b[0m\u001b[0minp_size\u001b[0m \u001b[0;34m+\u001b[0m \u001b[0;36m1\u001b[0m\u001b[0;34m]\u001b[0m\u001b[0;34m\u001b[0m\u001b[0;34m\u001b[0m\u001b[0m\n\u001b[1;32m     82\u001b[0m                     \u001b[0moutputs\u001b[0m \u001b[0;34m=\u001b[0m \u001b[0mlayers_inputs\u001b[0m\u001b[0;34m[\u001b[0m\u001b[0;34m:\u001b[0m\u001b[0;34m,\u001b[0m \u001b[0;34m-\u001b[0m\u001b[0;34m(\u001b[0m\u001b[0mj\u001b[0m\u001b[0;34m+\u001b[0m\u001b[0;36m1\u001b[0m\u001b[0;34m)\u001b[0m\u001b[0;34m,\u001b[0m \u001b[0;34m:\u001b[0m\u001b[0mout_size\u001b[0m \u001b[0;34m+\u001b[0m \u001b[0;36m1\u001b[0m\u001b[0;34m]\u001b[0m\u001b[0;34m\u001b[0m\u001b[0;34m\u001b[0m\u001b[0m\n",
      "\u001b[0;31mAttributeError\u001b[0m: 'MNISTDense' object has no attribute 'layers_size'"
     ]
    }
   ],
   "source": [
    "history = model.fit(2, 32, prepared_images, prepared_labels)"
   ]
  },
  {
   "cell_type": "code",
   "execution_count": null,
   "id": "6689d287",
   "metadata": {},
   "outputs": [
    {
     "data": {
      "text/plain": [
       "[<matplotlib.lines.Line2D at 0x7f5673b4be80>]"
      ]
     },
     "execution_count": 13,
     "metadata": {},
     "output_type": "execute_result"
    },
    {
     "data": {
      "image/png": "[encoded data removed]",
      "text/plain": [
       "<Figure size 1440x720 with 1 Axes>"
      ]
     },
     "metadata": {
      "needs_background": "light"
     },
     "output_type": "display_data"
    }
   ],
   "source": [
    "plt.figure(figsize=(20,10))\n",
    "plt.plot(history.flatten())"
   ]
  },
  {
   "cell_type": "code",
   "execution_count": null,
   "id": "0cfe0cf9",
   "metadata": {},
   "outputs": [],
   "source": [
    "a = np.ones((3,2,2))\n",
    "b = np.ones((3,2,1))"
   ]
  },
  {
   "cell_type": "code",
   "execution_count": null,
   "id": "153c586e",
   "metadata": {},
   "outputs": [
    {
     "data": {
      "text/plain": [
       "array([[[ 0,  1],\n",
       "        [ 2,  3]],\n",
       "\n",
       "       [[ 4,  5],\n",
       "        [ 6,  7]],\n",
       "\n",
       "       [[ 8,  9],\n",
       "        [10, 11]]])"
      ]
     },
     "metadata": {},
     "output_type": "display_data"
    },
    {
     "data": {
      "text/plain": [
       "array([[['a', 'b']],\n",
       "\n",
       "       [['c', 'd']],\n",
       "\n",
       "       [['e', 'f']]], dtype=object)"
      ]
     },
     "execution_count": 15,
     "metadata": {},
     "output_type": "execute_result"
    }
   ],
   "source": [
    "c = np.arange(12).reshape((3,2,2))\n",
    "display(c)\n",
    "d = np.array(('a', 'b', 'c', 'd', 'e', 'f'), dtype=object).reshape(3, 1, 2)\n",
    "d"
   ]
  },
  {
   "cell_type": "code",
   "execution_count": null,
   "id": "968d7108",
   "metadata": {},
   "outputs": [
    {
     "data": {
      "text/plain": [
       "array([[['b'],\n",
       "        ['aabbb']],\n",
       "\n",
       "       [['ccccddddd'],\n",
       "        ['ccccccddddddd']],\n",
       "\n",
       "       [['eeeeeeeefffffffff'],\n",
       "        ['eeeeeeeeeefffffffffff']]], dtype=object)"
      ]
     },
     "execution_count": 16,
     "metadata": {},
     "output_type": "execute_result"
    }
   ],
   "source": [
    "np.expand_dims((c * d).sum(axis=2), 2)\n"
   ]
  },
  {
   "cell_type": "code",
   "execution_count": null,
   "id": "99b10926",
   "metadata": {},
   "outputs": [
    {
     "data": {
      "text/plain": [
       "array([[['b'],\n",
       "        ['aabbb']],\n",
       "\n",
       "       [['ccccddddd'],\n",
       "        ['ccccccddddddd']],\n",
       "\n",
       "       [['eeeeeeeefffffffff'],\n",
       "        ['eeeeeeeeeefffffffffff']]], dtype=object)"
      ]
     },
     "execution_count": 17,
     "metadata": {},
     "output_type": "execute_result"
    }
   ],
   "source": [
    "awaited = np.array(('b', 'aabbb', 'ccccddddd', 'ccccccddddddd', 'eeeeeeeefffffffff', 'eeeeeeeeeefffffffffff'), dtype=object).reshape(3,2,1)\n",
    "awaited"
   ]
  },
  {
   "cell_type": "code",
   "execution_count": null,
   "id": "ddce7de3",
   "metadata": {},
   "outputs": [
    {
     "data": {
      "text/plain": [
       "array([[[0],\n",
       "        [1]],\n",
       "\n",
       "       [[2],\n",
       "        [3]],\n",
       "\n",
       "       [[4],\n",
       "        [5]]])"
      ]
     },
     "metadata": {},
     "output_type": "display_data"
    },
    {
     "data": {
      "text/plain": [
       "array([[[0, 1]],\n",
       "\n",
       "       [[2, 3]],\n",
       "\n",
       "       [[4, 5]]])"
      ]
     },
     "execution_count": 18,
     "metadata": {},
     "output_type": "execute_result"
    }
   ],
   "source": [
    "a = np.arange(6).reshape((3,2,1))\n",
    "display(a)\n",
    "b = np.arange(6).reshape((3,1,2))\n",
    "b"
   ]
  },
  {
   "cell_type": "code",
   "execution_count": null,
   "id": "c66e4697",
   "metadata": {},
   "outputs": [
    {
     "data": {
      "text/plain": [
       "array([[[ 0,  0],\n",
       "        [ 0,  1]],\n",
       "\n",
       "       [[ 4,  6],\n",
       "        [ 6,  9]],\n",
       "\n",
       "       [[16, 20],\n",
       "        [20, 25]]])"
      ]
     },
     "execution_count": 19,
     "metadata": {},
     "output_type": "execute_result"
    }
   ],
   "source": [
    "a*b"
   ]
  },
  {
   "cell_type": "code",
   "execution_count": null,
   "id": "8fb0c8b8",
   "metadata": {},
   "outputs": [],
   "source": []
  }
 ],
 "metadata": {
  "kernelspec": {
   "display_name": "Python 3 (ipykernel)",
   "language": "python",
   "name": "python3"
  },
  "language_info": {
   "codemirror_mode": {
    "name": "ipython",
    "version": 3
   },
   "file_extension": ".py",
   "mimetype": "text/x-python",
   "name": "python",
   "nbconvert_exporter": "python",
   "pygments_lexer": "ipython3",
   "version": "3.8.10"
  }
 },
 "nbformat": 4,
 "nbformat_minor": 5
}
