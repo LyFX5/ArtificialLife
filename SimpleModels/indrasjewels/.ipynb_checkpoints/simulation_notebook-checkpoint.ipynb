{
 "cells": [
  {
   "cell_type": "code",
   "execution_count": 1,
   "id": "e0834720-c127-4a13-9b0f-4ef4cf4dfe0a",
   "metadata": {},
   "outputs": [
    {
     "name": "stdout",
     "output_type": "stream",
     "text": [
      "pygame 2.2.0 (SDL 2.30.5, Python 3.11.8)\n",
      "Hello from the pygame community. https://www.pygame.org/contribute.html\n"
     ]
    }
   ],
   "source": [
    "# from tqdm import tqdm\n",
    "import numpy as np\n",
    "# import pandas as pd\n",
    "import matplotlib.pyplot as plt\n",
    "# from scipy.stats import multivariate_normal\n",
    "\n",
    "from complex_systems_communication.systems import Agent\n",
    "from complex_systems_communication.systems import Group\n",
    "from complex_systems_communication.systems import Simulation\n",
    "from complex_systems_communication.visualization import PygameSession"
   ]
  },
  {
   "cell_type": "code",
   "execution_count": 32,
   "id": "f80871eb-57d2-4c32-8225-9873450192a4",
   "metadata": {},
   "outputs": [],
   "source": [
    "STEPS_IN_SIMULATION = 100\n",
    "AGENTS_NUMBER = 100\n",
    "BITS_NUMBER = 100"
   ]
  },
  {
   "cell_type": "code",
   "execution_count": 33,
   "id": "419d1136-3b81-49d2-953c-6df43b749beb",
   "metadata": {},
   "outputs": [],
   "source": [
    "agents_array = [Agent(np.random.binomial(1, 0.5, BITS_NUMBER).reshape((BITS_NUMBER, 1))) for j in range(AGENTS_NUMBER)]"
   ]
  },
  {
   "cell_type": "code",
   "execution_count": 34,
   "id": "9be6670c-aea0-41f9-8055-5deddc57dc00",
   "metadata": {},
   "outputs": [],
   "source": [
    "group = Group(agents_array)"
   ]
  },
  {
   "cell_type": "code",
   "execution_count": 35,
   "id": "3fd86715-7a46-4b01-8ced-73077b60732a",
   "metadata": {},
   "outputs": [],
   "source": [
    "simulation = Simulation(group, STEPS_IN_SIMULATION)"
   ]
  },
  {
   "cell_type": "code",
   "execution_count": 36,
   "id": "260db0de-a2e8-4cc2-8e4d-3369059f153e",
   "metadata": {},
   "outputs": [],
   "source": [
    "session = PygameSession(simulation, by_mouse=False)"
   ]
  },
  {
   "cell_type": "code",
   "execution_count": 37,
   "id": "5b440c32-721a-42dd-a9b4-28bb90e1ac78",
   "metadata": {},
   "outputs": [],
   "source": [
    "session.draw_simulation()"
   ]
  },
  {
   "cell_type": "code",
   "execution_count": null,
   "id": "6ef3256a-374c-4b45-84b5-fb2729556a04",
   "metadata": {},
   "outputs": [],
   "source": []
  },
  {
   "cell_type": "code",
   "execution_count": null,
   "id": "5bd6b260-31a3-4574-b8e1-dc7e778cefef",
   "metadata": {},
   "outputs": [],
   "source": []
  }
 ],
 "metadata": {
  "kernelspec": {
   "display_name": "modeling_control",
   "language": "python",
   "name": "modeling_control"
  },
  "language_info": {
   "codemirror_mode": {
    "name": "ipython",
    "version": 3
   },
   "file_extension": ".py",
   "mimetype": "text/x-python",
   "name": "python",
   "nbconvert_exporter": "python",
   "pygments_lexer": "ipython3",
   "version": "3.11.8"
  }
 },
 "nbformat": 4,
 "nbformat_minor": 5
}
