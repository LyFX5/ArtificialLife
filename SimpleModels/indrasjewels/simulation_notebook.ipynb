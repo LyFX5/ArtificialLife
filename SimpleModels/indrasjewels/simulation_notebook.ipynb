{
 "cells": [
  {
   "cell_type": "code",
   "execution_count": 1,
   "id": "e0834720-c127-4a13-9b0f-4ef4cf4dfe0a",
   "metadata": {},
   "outputs": [
    {
     "name": "stdout",
     "output_type": "stream",
     "text": [
      "pygame 2.2.0 (SDL 2.30.5, Python 3.11.8)\n",
      "Hello from the pygame community. https://www.pygame.org/contribute.html\n"
     ]
    }
   ],
   "source": [
    "# from tqdm import tqdm\n",
    "import numpy as np\n",
    "# import pandas as pd\n",
    "import matplotlib.pyplot as plt\n",
    "# from scipy.stats import multivariate_normal\n",
    "\n",
    "from complex_systems_communication.systems import Agent\n",
    "from complex_systems_communication.systems import Group\n",
    "from complex_systems_communication.systems import Simulation\n",
    "from complex_systems_communication.visualization import PygameSession"
   ]
  },
  {
   "cell_type": "code",
   "execution_count": 12,
   "id": "f80871eb-57d2-4c32-8225-9873450192a4",
   "metadata": {},
   "outputs": [],
   "source": [
    "ALPHABET_LEN = 2\n",
    "STEPS_IN_SIMULATION = 200\n",
    "AGENTS_NUMBER = 200\n",
    "BITS_NUMBER = 5\n",
    "# AGENTS_NUMBER = 500\n",
    "# BITS_NUMBER = 6"
   ]
  },
  {
   "cell_type": "code",
   "execution_count": 13,
   "id": "419d1136-3b81-49d2-953c-6df43b749beb",
   "metadata": {},
   "outputs": [],
   "source": [
    "agents_array = [Agent(np.random.binomial(1, 0.5, BITS_NUMBER).reshape((BITS_NUMBER, 1))) for j in range(AGENTS_NUMBER)]"
   ]
  },
  {
   "cell_type": "code",
   "execution_count": 21,
   "id": "b42f3b59-dc66-4c10-98b5-e6be45bed49a",
   "metadata": {},
   "outputs": [],
   "source": [
    "adjacency_matrix = np.random.choice(ALPHABET_LEN, (AGENTS_NUMBER, AGENTS_NUMBER))\n",
    "# adjacency_matrix = np.ones((AGENTS_NUMBER, AGENTS_NUMBER))"
   ]
  },
  {
   "cell_type": "code",
   "execution_count": 5,
   "id": "7487b860-eb8f-4a0b-a7f8-a4942e630c5a",
   "metadata": {},
   "outputs": [],
   "source": [
    "for j in range(AGENTS_NUMBER):\n",
    "    adjacency_matrix[0][j] = 0\n",
    "    # adjacency_matrix[9][j] = 0\n",
    "    adjacency_matrix[18][j] = 0\n",
    "    # adjacency_matrix[25][j] = 0    "
   ]
  },
  {
   "cell_type": "code",
   "execution_count": 22,
   "id": "a11b1f0c-1c32-4c65-8d5f-140313578d4b",
   "metadata": {},
   "outputs": [
    {
     "data": {
      "text/plain": [
       "array([[0, 0, 1, ..., 0, 0, 1],\n",
       "       [1, 0, 0, ..., 1, 1, 1],\n",
       "       [0, 1, 1, ..., 0, 1, 0],\n",
       "       ...,\n",
       "       [0, 1, 1, ..., 1, 0, 0],\n",
       "       [1, 0, 0, ..., 0, 1, 0],\n",
       "       [0, 0, 0, ..., 0, 0, 0]])"
      ]
     },
     "execution_count": 22,
     "metadata": {},
     "output_type": "execute_result"
    }
   ],
   "source": [
    "adjacency_matrix"
   ]
  },
  {
   "cell_type": "code",
   "execution_count": 23,
   "id": "9be6670c-aea0-41f9-8055-5deddc57dc00",
   "metadata": {},
   "outputs": [],
   "source": [
    "group = Group(agents_array, adjacency_matrix)"
   ]
  },
  {
   "cell_type": "code",
   "execution_count": 24,
   "id": "25f70c16-90bb-4d7a-bac0-3176c462f86e",
   "metadata": {},
   "outputs": [],
   "source": [
    "group.build_net()"
   ]
  },
  {
   "cell_type": "code",
   "execution_count": 25,
   "id": "3fd86715-7a46-4b01-8ced-73077b60732a",
   "metadata": {},
   "outputs": [],
   "source": [
    "simulation = Simulation(group, STEPS_IN_SIMULATION)"
   ]
  },
  {
   "cell_type": "code",
   "execution_count": 26,
   "id": "260db0de-a2e8-4cc2-8e4d-3369059f153e",
   "metadata": {},
   "outputs": [],
   "source": [
    "session = PygameSession(simulation, by_mouse=False)"
   ]
  },
  {
   "cell_type": "code",
   "execution_count": 27,
   "id": "5b440c32-721a-42dd-a9b4-28bb90e1ac78",
   "metadata": {},
   "outputs": [],
   "source": [
    "session.draw_simulation()"
   ]
  },
  {
   "cell_type": "code",
   "execution_count": null,
   "id": "a85e48df-2b5b-48b9-a315-f9db03405ca3",
   "metadata": {},
   "outputs": [],
   "source": []
  }
 ],
 "metadata": {
  "kernelspec": {
   "display_name": "modeling_control",
   "language": "python",
   "name": "modeling_control"
  },
  "language_info": {
   "codemirror_mode": {
    "name": "ipython",
    "version": 3
   },
   "file_extension": ".py",
   "mimetype": "text/x-python",
   "name": "python",
   "nbconvert_exporter": "python",
   "pygments_lexer": "ipython3",
   "version": "3.11.8"
  }
 },
 "nbformat": 4,
 "nbformat_minor": 5
}
