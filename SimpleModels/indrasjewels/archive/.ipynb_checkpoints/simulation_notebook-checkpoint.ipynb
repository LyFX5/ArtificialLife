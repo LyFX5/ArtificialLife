{
 "cells": [
  {
   "cell_type": "code",
   "execution_count": 1,
   "id": "e0834720-c127-4a13-9b0f-4ef4cf4dfe0a",
   "metadata": {},
   "outputs": [
    {
     "name": "stdout",
     "output_type": "stream",
     "text": [
      "pygame 2.2.0 (SDL 2.30.5, Python 3.11.8)\n",
      "Hello from the pygame community. https://www.pygame.org/contribute.html\n"
     ]
    }
   ],
   "source": [
    "# from tqdm import tqdm\n",
    "import numpy as np\n",
    "# import pandas as pd\n",
    "import matplotlib.pyplot as plt\n",
    "# from scipy.stats import multivariate_normal\n",
    "\n",
    "from complex_systems_communication.systems.agent import Agent\n",
    "from complex_systems_communication.systems.group import Group\n",
    "from complex_systems_communication.systems.simulation import Simulation\n",
    "from complex_systems_communication.visualization.pygame_session import PygameSession"
   ]
  },
  {
   "cell_type": "code",
   "execution_count": 2,
   "id": "f80871eb-57d2-4c32-8225-9873450192a4",
   "metadata": {},
   "outputs": [],
   "source": [
    "STEPS_IN_SIMULATION = 100\n",
    "AGENTS_NUMBER = 90\n",
    "BITS_NUMBER = 90"
   ]
  },
  {
   "cell_type": "code",
   "execution_count": 3,
   "id": "419d1136-3b81-49d2-953c-6df43b749beb",
   "metadata": {},
   "outputs": [],
   "source": [
    "agents_array = [Agent(np.random.binomial(1, 0.5, BITS_NUMBER).reshape((BITS_NUMBER, 1))) for j in range(AGENTS_NUMBER)]"
   ]
  },
  {
   "cell_type": "code",
   "execution_count": 4,
   "id": "9be6670c-aea0-41f9-8055-5deddc57dc00",
   "metadata": {},
   "outputs": [],
   "source": [
    "group = Group(agents_array)"
   ]
  },
  {
   "cell_type": "code",
   "execution_count": 5,
   "id": "3fd86715-7a46-4b01-8ced-73077b60732a",
   "metadata": {},
   "outputs": [],
   "source": [
    "simulation = Simulation(group, STEPS_IN_SIMULATION)"
   ]
  },
  {
   "cell_type": "code",
   "execution_count": 6,
   "id": "260db0de-a2e8-4cc2-8e4d-3369059f153e",
   "metadata": {},
   "outputs": [],
   "source": [
    "session = PygameSession(simulation)"
   ]
  },
  {
   "cell_type": "code",
   "execution_count": 7,
   "id": "5b440c32-721a-42dd-a9b4-28bb90e1ac78",
   "metadata": {},
   "outputs": [],
   "source": [
    "session.draw_simulation()"
   ]
  },
  {
   "cell_type": "code",
   "execution_count": null,
   "id": "b44d6889-f143-4e38-b708-cafbdd223f28",
   "metadata": {},
   "outputs": [],
   "source": []
  },
  {
   "cell_type": "code",
   "execution_count": null,
   "id": "1e726676-df41-4931-90fd-52acbe94792d",
   "metadata": {},
   "outputs": [],
   "source": []
  },
  {
   "cell_type": "code",
   "execution_count": null,
   "id": "6e958ae9-0160-4004-bde8-4de09f84afaa",
   "metadata": {},
   "outputs": [],
   "source": []
  },
  {
   "cell_type": "code",
   "execution_count": null,
   "id": "4b15c8ce-7917-4b43-87ac-d0ad142a3071",
   "metadata": {},
   "outputs": [],
   "source": []
  },
  {
   "cell_type": "code",
   "execution_count": null,
   "id": "32a44a94-399f-4168-a6c7-cc1f2826c9fb",
   "metadata": {},
   "outputs": [],
   "source": []
  },
  {
   "cell_type": "code",
   "execution_count": null,
   "id": "3c60c2d2-995f-4be9-b47f-3bc32aa69948",
   "metadata": {},
   "outputs": [],
   "source": []
  },
  {
   "cell_type": "markdown",
   "id": "a3862fe1-815a-4883-b442-3f8b8d556923",
   "metadata": {},
   "source": [
    "# Old simulation"
   ]
  },
  {
   "cell_type": "code",
   "execution_count": 2,
   "id": "7d34b1d1-c8a8-4e05-9ee4-c8ec2cbbea49",
   "metadata": {},
   "outputs": [],
   "source": [
    "STEPS_IN_SIMULATION = 10\n",
    "AGENTS_NUMBER = 3"
   ]
  },
  {
   "cell_type": "code",
   "execution_count": 77,
   "id": "7f6dbcbe-3b32-436d-81f1-ad9a8fdd30ef",
   "metadata": {},
   "outputs": [],
   "source": [
    "def g():\n",
    "    ..."
   ]
  },
  {
   "cell_type": "code",
   "execution_count": 78,
   "id": "0132d5cc-6b5f-465c-9b2a-29e92aecdfdd",
   "metadata": {},
   "outputs": [],
   "source": [
    "agents_array = [Agent(init_state=np.array([[5*(k+3)], [6*(k+2)]]),\n",
    "                      distribution=ProbabilityDistribution(number_of_states=10,\n",
    "                                                           dimension=2,\n",
    "                                                           mean=0,\n",
    "                                                           cov=10*(k+1)),\n",
    "                      a1=0.1, a2=-0.7) for k in range(AGENTS_NUMBER)]"
   ]
  },
  {
   "cell_type": "code",
   "execution_count": 79,
   "id": "673a89ca-f0d0-4ba9-852c-2713de886202",
   "metadata": {},
   "outputs": [],
   "source": [
    "group = Group(agents_array)"
   ]
  },
  {
   "cell_type": "code",
   "execution_count": 80,
   "id": "631d1174-fb40-43d5-b85a-e645b18a25bd",
   "metadata": {},
   "outputs": [],
   "source": [
    "simulation = Simulation(group)"
   ]
  },
  {
   "cell_type": "code",
   "execution_count": 81,
   "id": "606746d1-1359-4efb-8675-7354f4451e2d",
   "metadata": {},
   "outputs": [],
   "source": [
    "snaps = []\n",
    "histories = [[[], []], [[], []], [[], []], [[], []], [[], []], [[], []], [[], []]]"
   ]
  },
  {
   "cell_type": "code",
   "execution_count": 82,
   "id": "b2e2d919-a592-49bf-8655-e2d9599a80d1",
   "metadata": {
    "scrolled": true
   },
   "outputs": [
    {
     "name": "stderr",
     "output_type": "stream",
     "text": [
      "100%|██████████| 10/10 [00:00<00:00, 4294.36it/s]"
     ]
    },
    {
     "name": "stdout",
     "output_type": "stream",
     "text": [
      "CPU times: user 3.2 ms, sys: 4.78 ms, total: 7.98 ms\n",
      "Wall time: 6.07 ms\n"
     ]
    },
    {
     "name": "stderr",
     "output_type": "stream",
     "text": [
      "\n"
     ]
    }
   ],
   "source": [
    "%%time\n",
    "for i in tqdm(range(STEPS_IN_SIMULATION)):\n",
    "    group_state = simulation.group.state\n",
    "    snaps.append(group_state)\n",
    "    for k in range(AGENTS_NUMBER):\n",
    "        histories[k][0].append(group_state[k][0])\n",
    "        histories[k][1].append(group_state[k][1])\n",
    "    next(simulation) # .assign(step_number = i)"
   ]
  },
  {
   "cell_type": "code",
   "execution_count": 83,
   "id": "5b0ec5f1-eec6-4490-a613-84ee5c8cead9",
   "metadata": {
    "scrolled": true
   },
   "outputs": [
    {
     "data": {
      "text/plain": [
       "[array([[[15],\n",
       "         [12]],\n",
       " \n",
       "        [[20],\n",
       "         [18]],\n",
       " \n",
       "        [[25],\n",
       "         [24]]]),\n",
       " array([[[10.5],\n",
       "         [10.5]],\n",
       " \n",
       "        [[16. ],\n",
       "         [14. ]],\n",
       " \n",
       "        [[21.5],\n",
       "         [17.5]]]),\n",
       " array([[[ 9.45],\n",
       "         [ 7.35]],\n",
       " \n",
       "        [[12.4 ],\n",
       "         [11.2 ]],\n",
       " \n",
       "        [[15.35],\n",
       "         [15.05]]]),\n",
       " array([[[ 6.405],\n",
       "         [ 6.615]],\n",
       " \n",
       "        [[ 9.96 ],\n",
       "         [ 8.68 ]],\n",
       " \n",
       "        [[13.515],\n",
       "         [10.745]]]),\n",
       " array([[[5.9745],\n",
       "         [4.4835]],\n",
       " \n",
       "        [[7.684 ],\n",
       "         [6.972 ]],\n",
       " \n",
       "        [[9.3935],\n",
       "         [9.4605]]]),\n",
       " array([[[3.88605],\n",
       "         [4.18215]],\n",
       " \n",
       "        [[6.2036 ],\n",
       "         [5.3788 ]],\n",
       " \n",
       "        [[8.52115],\n",
       "         [6.57545]]]),\n",
       " array([[[3.793545],\n",
       "         [2.720235]],\n",
       " \n",
       "        [[4.75844 ],\n",
       "         [4.34252 ]],\n",
       " \n",
       "        [[5.723335],\n",
       "         [5.964805]]]),\n",
       " array([[[2.3408805],\n",
       "         [2.6554815]],\n",
       " \n",
       "        [[3.866676 ],\n",
       "         [3.330908 ]],\n",
       " \n",
       "        [[5.3924715],\n",
       "         [4.0063345]]]),\n",
       " array([[[2.42139345],\n",
       "         [1.63861635]],\n",
       " \n",
       "        [[2.9442404 ],\n",
       "         [2.7066732 ]],\n",
       " \n",
       "        [[3.46708735],\n",
       "         [3.77473005]]]),\n",
       " array([[[1.396477  ],\n",
       "         [1.69497541]],\n",
       " \n",
       "        [[2.41224916],\n",
       "         [2.06096828]],\n",
       " \n",
       "        [[3.42802131],\n",
       "         [2.42696114]]])]"
      ]
     },
     "execution_count": 83,
     "metadata": {},
     "output_type": "execute_result"
    }
   ],
   "source": [
    "snaps"
   ]
  },
  {
   "cell_type": "code",
   "execution_count": 84,
   "id": "2440717f-7d1f-4e80-bd04-c18b4c2064a2",
   "metadata": {},
   "outputs": [
    {
     "data": {
      "image/png": "[encoded data removed]",
      "text/plain": [
       "<Figure size 1080x1080 with 1 Axes>"
      ]
     },
     "metadata": {},
     "output_type": "display_data"
    }
   ],
   "source": [
    "fig, ax = plt.subplots(figsize=(15, 15))\n",
    "\n",
    "# x = np.array([2, 3])\n",
    "# y = np.array([4, 2])\n",
    "\n",
    "for k in range(AGENTS_NUMBER):\n",
    "    ax.scatter(histories[k][0], histories[k][1])\n",
    "# ax.scatter([x[1]], [y[1]], color='blue', marker='o', s=200)\n",
    "\n",
    "ax.set_xlabel('Расстояние между \\n первым и вторым витками \\n (первая переменная состояния)', fontsize=13)\n",
    "ax.set_ylabel('Расстояние между \\n вторым и третьим витками \\n (вторая переменная состояния)', fontsize=13)\n",
    "\n",
    "# plt.xlim([0, 5])\n",
    "# plt.ylim([0, 5])\n",
    "plt.title(\"Фазовое Пространство Пружины \\n с Двумя Переменными Состояния \\n\", fontsize=15)\n",
    "plt.grid()\n",
    "plt.show()"
   ]
  },
  {
   "cell_type": "code",
   "execution_count": null,
   "id": "6ef3256a-374c-4b45-84b5-fb2729556a04",
   "metadata": {},
   "outputs": [],
   "source": []
  },
  {
   "cell_type": "code",
   "execution_count": null,
   "id": "5bd6b260-31a3-4574-b8e1-dc7e778cefef",
   "metadata": {},
   "outputs": [],
   "source": []
  }
 ],
 "metadata": {
  "kernelspec": {
   "display_name": "modeling_control",
   "language": "python",
   "name": "modeling_control"
  },
  "language_info": {
   "codemirror_mode": {
    "name": "ipython",
    "version": 3
   },
   "file_extension": ".py",
   "mimetype": "text/x-python",
   "name": "python",
   "nbconvert_exporter": "python",
   "pygments_lexer": "ipython3",
   "version": "3.11.8"
  }
 },
 "nbformat": 4,
 "nbformat_minor": 5
}
