{
 "cells": [
  {
   "cell_type": "code",
   "id": "initial_id",
   "metadata": {
    "collapsed": true,
    "ExecuteTime": {
     "end_time": "2024-04-28T18:38:32.256330Z",
     "start_time": "2024-04-28T18:38:30.220428Z"
    }
   },
   "source": [
    "import tqdm\n",
    "import pandas as pd\n",
    "import numpy as np\n",
    "import matplotlib.pyplot as plt\n",
    "from sklearn.preprocessing import normalize\n",
    "\n",
    "from agent import Agent\n",
    "from system import System\n",
    "\n",
    "from operators import diagonal_reflection, min_max_normalization"
   ],
   "execution_count": 1,
   "outputs": []
  },
  {
   "metadata": {},
   "cell_type": "markdown",
   "source": "# Constants",
   "id": "bedee7219870656d"
  },
  {
   "cell_type": "code",
   "source": "NUMBER_OF_LAYERS = 10",
   "metadata": {
    "collapsed": false,
    "ExecuteTime": {
     "end_time": "2024-04-28T18:38:32.266986Z",
     "start_time": "2024-04-28T18:38:32.260105Z"
    }
   },
   "id": "c5aaab97d61003fa",
   "execution_count": 2,
   "outputs": []
  },
  {
   "metadata": {
    "ExecuteTime": {
     "end_time": "2024-04-28T18:38:32.276127Z",
     "start_time": "2024-04-28T18:38:32.270103Z"
    }
   },
   "cell_type": "code",
   "source": "NUMBER_OF_STEPS_OF_SIMULATION = 10",
   "id": "fd00586cbb8cf320",
   "execution_count": 3,
   "outputs": []
  },
  {
   "metadata": {},
   "cell_type": "markdown",
   "source": "# Utils",
   "id": "31ad9590ec9f42e5"
  },
  {
   "cell_type": "code",
   "source": "",
   "metadata": {
    "collapsed": false,
    "ExecuteTime": {
     "end_time": "2024-04-28T18:38:32.285488Z",
     "start_time": "2024-04-28T18:38:32.281476Z"
    }
   },
   "id": "c450c225b8c93689",
   "execution_count": 3,
   "outputs": []
  },
  {
   "metadata": {},
   "cell_type": "markdown",
   "source": "# Matrix Building",
   "id": "2ac5c149fa038d8f"
  },
  {
   "metadata": {
    "ExecuteTime": {
     "end_time": "2024-04-28T18:38:32.905535Z",
     "start_time": "2024-04-28T18:38:32.895077Z"
    }
   },
   "cell_type": "code",
   "source": [
    "concentrations_on_layers_init = pd.DataFrame({f\"layer_{layer}\": [layer] for layer in range(1, NUMBER_OF_LAYERS+1)})\n",
    "# on each step the layers is a triangle of concentrations"
   ],
   "id": "748a7ce2b9e4320",
   "execution_count": 4,
   "outputs": []
  },
  {
   "metadata": {
    "ExecuteTime": {
     "end_time": "2024-04-28T18:38:33.495311Z",
     "start_time": "2024-04-28T18:38:33.485170Z"
    }
   },
   "cell_type": "code",
   "source": "system = System(concentrations_on_layers_init)",
   "id": "1469c14fab6575c1",
   "execution_count": 5,
   "outputs": []
  },
  {
   "metadata": {},
   "cell_type": "markdown",
   "source": "# Simulation",
   "id": "ffc385bc97547ae2"
  },
  {
   "metadata": {
    "ExecuteTime": {
     "end_time": "2024-04-28T18:38:34.439296Z",
     "start_time": "2024-04-28T18:38:34.434951Z"
    }
   },
   "cell_type": "code",
   "source": "snaps = [system.state]",
   "id": "7c621496debec271",
   "execution_count": 6,
   "outputs": []
  },
  {
   "metadata": {
    "ExecuteTime": {
     "end_time": "2024-04-28T18:38:35.040188Z",
     "start_time": "2024-04-28T18:38:34.960257Z"
    }
   },
   "cell_type": "code",
   "source": [
    "%%time\n",
    "for step_number in range(1, NUMBER_OF_STEPS_OF_SIMULATION):\n",
    "    # for layer in range(1, NUMBER_OF_LAYERS+1):\n",
    "    #     for agent in system.layers[f\"layer_{layer}\"]:\n",
    "    #         print(agent, end=\" \")\n",
    "    #     print()\n",
    "    # print()\n",
    "    snaps.append(next(system))"
   ],
   "id": "feb89d16acd9982e",
   "execution_count": 7,
   "outputs": []
  },
  {
   "metadata": {
    "ExecuteTime": {
     "end_time": "2024-04-28T18:39:01.370842Z",
     "start_time": "2024-04-28T18:39:01.361854Z"
    }
   },
   "cell_type": "code",
   "source": "matrix = pd.concat(snaps, ignore_index=True)",
   "id": "8cda8e7c9f0fd56e",
   "execution_count": 8,
   "outputs": []
  },
  {
   "metadata": {
    "ExecuteTime": {
     "end_time": "2024-04-28T18:39:02.018759Z",
     "start_time": "2024-04-28T18:39:02.005213Z"
    }
   },
   "cell_type": "code",
   "source": "matrix.shape",
   "id": "f5a2e3d50cc7c4a8",
   "execution_count": 9,
   "outputs": []
  },
  {
   "metadata": {
    "ExecuteTime": {
     "end_time": "2024-04-28T18:39:02.845643Z",
     "start_time": "2024-04-28T18:39:02.839499Z"
    }
   },
   "cell_type": "code",
   "source": "matrix_np_norm = matrix.to_numpy() # min_max_normalization(matrix.to_numpy())",
   "id": "824f4146127defcd",
   "execution_count": 10,
   "outputs": []
  },
  {
   "metadata": {
    "ExecuteTime": {
     "end_time": "2024-04-28T18:39:03.621093Z",
     "start_time": "2024-04-28T18:39:03.348933Z"
    }
   },
   "cell_type": "code",
   "source": [
    "plt.rcParams[\"figure.figsize\"] = (10, 5)\n",
    "plt.imshow(matrix_np_norm)\n",
    "plt.show()"
   ],
   "id": "afcf854efcff11b7",
   "execution_count": 11,
   "outputs": []
  },
  {
   "metadata": {},
   "cell_type": "code",
   "execution_count": null,
   "source": "",
   "id": "11309fd0a41c8db6",
   "outputs": []
  },
  {
   "metadata": {},
   "cell_type": "code",
   "execution_count": null,
   "source": [
    "# plt.matshow(matrix.to_numpy())\n",
    "# interpolation='spline36',"
   ],
   "id": "87d31e1ca5a6594a",
   "outputs": []
  }
 ],
 "metadata": {
  "kernelspec": {
   "display_name": "Python 3",
   "language": "python",
   "name": "python3"
  },
  "language_info": {
   "codemirror_mode": {
    "name": "ipython",
    "version": 2
   },
   "file_extension": ".py",
   "mimetype": "text/x-python",
   "name": "python",
   "nbconvert_exporter": "python",
   "pygments_lexer": "ipython2",
   "version": "2.7.6"
  }
 },
 "nbformat": 4,
 "nbformat_minor": 5
}
