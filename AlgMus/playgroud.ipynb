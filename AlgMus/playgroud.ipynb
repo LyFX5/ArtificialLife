{
 "cells": [
  {
   "cell_type": "code",
   "execution_count": 1,
   "metadata": {
    "collapsed": true
   },
   "outputs": [
    {
     "ename": "ModuleNotFoundError",
     "evalue": "No module named 'pyknon'",
     "output_type": "error",
     "traceback": [
      "\u001B[0;31m---------------------------------------------------------------------------\u001B[0m",
      "\u001B[0;31mModuleNotFoundError\u001B[0m                       Traceback (most recent call last)",
      "Input \u001B[0;32mIn [1]\u001B[0m, in \u001B[0;36m<cell line: 1>\u001B[0;34m()\u001B[0m\n\u001B[0;32m----> 1\u001B[0m \u001B[38;5;28;01mfrom\u001B[39;00m \u001B[38;5;21;01mpyknon\u001B[39;00m\u001B[38;5;21;01m.\u001B[39;00m\u001B[38;5;21;01mgenmidi\u001B[39;00m \u001B[38;5;28;01mimport\u001B[39;00m Midi\n\u001B[1;32m      2\u001B[0m \u001B[38;5;28;01mfrom\u001B[39;00m \u001B[38;5;21;01mpyknon\u001B[39;00m\u001B[38;5;21;01m.\u001B[39;00m\u001B[38;5;21;01mmusic\u001B[39;00m \u001B[38;5;28;01mimport\u001B[39;00m NoteSeq, Note, Rest\n\u001B[1;32m      4\u001B[0m \u001B[38;5;28;01mimport\u001B[39;00m \u001B[38;5;21;01mrandom\u001B[39;00m\n",
      "\u001B[0;31mModuleNotFoundError\u001B[0m: No module named 'pyknon'"
     ]
    }
   ],
   "source": [
    "from pyknon.genmidi import Midi\n",
    "from pyknon.music import NoteSeq, Note, Rest\n",
    "\n",
    "import random\n"
   ]
  },
  {
   "cell_type": "code",
   "execution_count": 2,
   "outputs": [
    {
     "ename": "NameError",
     "evalue": "name 'NoteSeq' is not defined",
     "output_type": "error",
     "traceback": [
      "\u001B[0;31m---------------------------------------------------------------------------\u001B[0m",
      "\u001B[0;31mNameError\u001B[0m                                 Traceback (most recent call last)",
      "Input \u001B[0;32mIn [2]\u001B[0m, in \u001B[0;36m<cell line: 1>\u001B[0;34m()\u001B[0m\n\u001B[0;32m----> 1\u001B[0m notes1 \u001B[38;5;241m=\u001B[39m \u001B[43mNoteSeq\u001B[49m(\u001B[38;5;124m'\u001B[39m\u001B[38;5;124mA4 B8 C E4\u001B[39m\u001B[38;5;124m'\u001B[39m)\n\u001B[1;32m      2\u001B[0m midi \u001B[38;5;241m=\u001B[39m Midi(number_tracks\u001B[38;5;241m=\u001B[39m\u001B[38;5;241m1\u001B[39m, tempo\u001B[38;5;241m=\u001B[39m\u001B[38;5;241m90\u001B[39m)\n\u001B[1;32m      3\u001B[0m midi\u001B[38;5;241m.\u001B[39mseq_notes(notes1, track\u001B[38;5;241m=\u001B[39m\u001B[38;5;241m0\u001B[39m)\n",
      "\u001B[0;31mNameError\u001B[0m: name 'NoteSeq' is not defined"
     ]
    }
   ],
   "source": [
    "notes1 = NoteSeq('A4 B8 C E4')\n",
    "midi = Midi(number_tracks=1, tempo=90)\n",
    "midi.seq_notes(notes1, track=0)\n",
    "midi.write('demo.mid')"
   ],
   "metadata": {
    "collapsed": false
   }
  },
  {
   "cell_type": "code",
   "execution_count": null,
   "outputs": [],
   "source": [
    "durations = [\n",
    "    1/2, # half note\n",
    "    1/4, # quarter note\n",
    "    1/8, # eighth note\n",
    "    1/16 # sixteenth note\n",
    "]\n",
    "\n",
    "'''\n",
    "0  1  2  3  4  5  6  7  8  9  10  11\n",
    "C  C# D  D# E  F  F# G  G# A  A#  B\n",
    "'''\n",
    "# A_major = ['A','B','C#','D','E','F#','G#']\n",
    "A_major = [9, 11, 1, 2, 4, 6, 8]\n",
    "# G_major = ['G','A','B','C','D','E','F#']\n",
    "G_major = [7, 9, 11, 0, 2, 4, 6]\n",
    "# D_major = ['D','E','F#','G','A','B','C#']\n",
    "D_major = [2, 4, 6, 7, 9, 11, 1]\n",
    "\n",
    "def get_random_notes(n, pitches, durations, rests=True):\n",
    "    if rests:\n",
    "        pitches.append('r')\n",
    "\n",
    "    result = NoteSeq()\n",
    "\n",
    "    for i in range(n):\n",
    "        pitch = random.choice(pitches)\n",
    "        duration = random.choice(durations)\n",
    "\n",
    "        if pitch == 'r':\n",
    "            result.append(Rest(dur=duration))\n",
    "        else:\n",
    "            result.append(Note(pitch, octave=4, dur=duration))\n",
    "\n",
    "    return result"
   ],
   "metadata": {
    "collapsed": false
   }
  },
  {
   "cell_type": "code",
   "execution_count": 3,
   "outputs": [
    {
     "ename": "NameError",
     "evalue": "name 'get_random_notes' is not defined",
     "output_type": "error",
     "traceback": [
      "\u001B[0;31m---------------------------------------------------------------------------\u001B[0m",
      "\u001B[0;31mNameError\u001B[0m                                 Traceback (most recent call last)",
      "Input \u001B[0;32mIn [3]\u001B[0m, in \u001B[0;36m<cell line: 1>\u001B[0;34m()\u001B[0m\n\u001B[0;32m----> 1\u001B[0m notes1 \u001B[38;5;241m=\u001B[39m \u001B[43mget_random_notes\u001B[49m(\u001B[38;5;241m20\u001B[39m, pitches\u001B[38;5;241m=\u001B[39mA_major, durations\u001B[38;5;241m=\u001B[39m[\u001B[38;5;241m1\u001B[39m\u001B[38;5;241m/\u001B[39m\u001B[38;5;241m8\u001B[39m, \u001B[38;5;241m1\u001B[39m\u001B[38;5;241m/\u001B[39m\u001B[38;5;241m16\u001B[39m])\n\u001B[1;32m      2\u001B[0m midi \u001B[38;5;241m=\u001B[39m Midi(number_tracks\u001B[38;5;241m=\u001B[39m\u001B[38;5;241m1\u001B[39m, tempo\u001B[38;5;241m=\u001B[39m\u001B[38;5;241m120\u001B[39m)\n\u001B[1;32m      3\u001B[0m midi\u001B[38;5;241m.\u001B[39mseq_notes(notes1, track\u001B[38;5;241m=\u001B[39m\u001B[38;5;241m0\u001B[39m)\n",
      "\u001B[0;31mNameError\u001B[0m: name 'get_random_notes' is not defined"
     ]
    }
   ],
   "source": [
    "notes1 = get_random_notes(20, pitches=A_major, durations=[1/8, 1/16])\n",
    "midi = Midi(number_tracks=1, tempo=120)\n",
    "midi.seq_notes(notes1, track=0)\n",
    "midi.write('A_major.mid')\n",
    "\n",
    "print(notes1)"
   ],
   "metadata": {
    "collapsed": false
   }
  },
  {
   "cell_type": "code",
   "execution_count": 4,
   "outputs": [
    {
     "ename": "NameError",
     "evalue": "name 'NoteSeq' is not defined",
     "output_type": "error",
     "traceback": [
      "\u001B[0;31m---------------------------------------------------------------------------\u001B[0m",
      "\u001B[0;31mNameError\u001B[0m                                 Traceback (most recent call last)",
      "Input \u001B[0;32mIn [4]\u001B[0m, in \u001B[0;36m<cell line: 1>\u001B[0;34m()\u001B[0m\n\u001B[0;32m----> 1\u001B[0m hihat \u001B[38;5;241m=\u001B[39m \u001B[43mNoteSeq\u001B[49m(\u001B[38;5;124m'\u001B[39m\u001B[38;5;124mF#16,, R16\u001B[39m\u001B[38;5;124m'\u001B[39m) \u001B[38;5;241m*\u001B[39m \u001B[38;5;241m16\u001B[39m\n\u001B[1;32m      2\u001B[0m kick_snare \u001B[38;5;241m=\u001B[39m NoteSeq(\u001B[38;5;124m'\u001B[39m\u001B[38;5;124mC16,, R16 R16 C16 D16 C16 R16 R16\u001B[39m\u001B[38;5;124m'\u001B[39m) \u001B[38;5;241m*\u001B[39m \u001B[38;5;241m4\u001B[39m\n\u001B[1;32m      4\u001B[0m midi \u001B[38;5;241m=\u001B[39m Midi(number_tracks\u001B[38;5;241m=\u001B[39m\u001B[38;5;241m1\u001B[39m, tempo\u001B[38;5;241m=\u001B[39m\u001B[38;5;241m120\u001B[39m)\n",
      "\u001B[0;31mNameError\u001B[0m: name 'NoteSeq' is not defined"
     ]
    }
   ],
   "source": [
    "hihat = NoteSeq('F#16,, R16') * 16\n",
    "kick_snare = NoteSeq('C16,, R16 R16 C16 D16 C16 R16 R16') * 4\n",
    "\n",
    "midi = Midi(number_tracks=1, tempo=120)\n",
    "midi.seq_notes(hihat, track=0)\n",
    "midi.seq_notes(kick_snare, track=0)\n",
    "midi.write('drum.mid')"
   ],
   "metadata": {
    "collapsed": false
   }
  },
  {
   "cell_type": "code",
   "execution_count": 5,
   "outputs": [
    {
     "ename": "NameError",
     "evalue": "name 'Midi' is not defined",
     "output_type": "error",
     "traceback": [
      "\u001B[0;31m---------------------------------------------------------------------------\u001B[0m",
      "\u001B[0;31mNameError\u001B[0m                                 Traceback (most recent call last)",
      "Input \u001B[0;32mIn [5]\u001B[0m, in \u001B[0;36m<cell line: 1>\u001B[0;34m()\u001B[0m\n\u001B[0;32m----> 1\u001B[0m midi \u001B[38;5;241m=\u001B[39m \u001B[43mMidi\u001B[49m(number_tracks\u001B[38;5;241m=\u001B[39m\u001B[38;5;241m2\u001B[39m, tempo\u001B[38;5;241m=\u001B[39m\u001B[38;5;241m120\u001B[39m)\n\u001B[1;32m      2\u001B[0m midi\u001B[38;5;241m.\u001B[39mseq_notes(hihat, track\u001B[38;5;241m=\u001B[39m\u001B[38;5;241m0\u001B[39m)\n\u001B[1;32m      3\u001B[0m midi\u001B[38;5;241m.\u001B[39mseq_notes(kick_snare, track\u001B[38;5;241m=\u001B[39m\u001B[38;5;241m0\u001B[39m)\n",
      "\u001B[0;31mNameError\u001B[0m: name 'Midi' is not defined"
     ]
    }
   ],
   "source": [
    "midi = Midi(number_tracks=2, tempo=120)\n",
    "midi.seq_notes(hihat, track=0)\n",
    "midi.seq_notes(kick_snare, track=0)\n",
    "midi.seq_notes(notes1, track=1)\n",
    "midi.write('Amajor_drum.mid')"
   ],
   "metadata": {
    "collapsed": false
   }
  },
  {
   "cell_type": "code",
   "execution_count": 6,
   "outputs": [
    {
     "ename": "NameError",
     "evalue": "name 'NoteSeq' is not defined",
     "output_type": "error",
     "traceback": [
      "\u001B[0;31m---------------------------------------------------------------------------\u001B[0m",
      "\u001B[0;31mNameError\u001B[0m                                 Traceback (most recent call last)",
      "Input \u001B[0;32mIn [6]\u001B[0m, in \u001B[0;36m<cell line: 1>\u001B[0;34m()\u001B[0m\n\u001B[0;32m----> 1\u001B[0m piano \u001B[38;5;241m=\u001B[39m \u001B[43mNoteSeq\u001B[49m(\u001B[38;5;124m'\u001B[39m\u001B[38;5;124mA4, R4\u001B[39m\u001B[38;5;124m'\u001B[39m) \u001B[38;5;241m*\u001B[39m \u001B[38;5;241m4\u001B[39m\n\u001B[1;32m      3\u001B[0m midi \u001B[38;5;241m=\u001B[39m Midi(number_tracks\u001B[38;5;241m=\u001B[39m\u001B[38;5;241m3\u001B[39m, tempo\u001B[38;5;241m=\u001B[39m\u001B[38;5;241m120\u001B[39m)\n\u001B[1;32m      4\u001B[0m midi\u001B[38;5;241m.\u001B[39mseq_notes(hihat, track\u001B[38;5;241m=\u001B[39m\u001B[38;5;241m0\u001B[39m)\n",
      "\u001B[0;31mNameError\u001B[0m: name 'NoteSeq' is not defined"
     ]
    }
   ],
   "source": [
    "piano = NoteSeq('A4, R4') * 4\n",
    "\n",
    "midi = Midi(number_tracks=3, tempo=120)\n",
    "midi.seq_notes(hihat, track=0)\n",
    "midi.seq_notes(kick_snare, track=0)\n",
    "midi.seq_notes(notes1, track=1)\n",
    "midi.seq_notes(piano, track=2)\n",
    "midi.write('Amajor_drum_piano.mid')"
   ],
   "metadata": {
    "collapsed": false
   }
  },
  {
   "cell_type": "code",
   "execution_count": null,
   "outputs": [],
   "source": [],
   "metadata": {
    "collapsed": false
   }
  },
  {
   "cell_type": "code",
   "execution_count": null,
   "outputs": [],
   "source": [],
   "metadata": {
    "collapsed": false
   }
  },
  {
   "cell_type": "code",
   "execution_count": null,
   "outputs": [],
   "source": [],
   "metadata": {
    "collapsed": false
   }
  },
  {
   "cell_type": "code",
   "execution_count": null,
   "outputs": [],
   "source": [],
   "metadata": {
    "collapsed": false
   }
  },
  {
   "cell_type": "code",
   "execution_count": null,
   "outputs": [],
   "source": [],
   "metadata": {
    "collapsed": false
   }
  }
 ],
 "metadata": {
  "kernelspec": {
   "display_name": "Python 3",
   "language": "python",
   "name": "python3"
  },
  "language_info": {
   "codemirror_mode": {
    "name": "ipython",
    "version": 2
   },
   "file_extension": ".py",
   "mimetype": "text/x-python",
   "name": "python",
   "nbconvert_exporter": "python",
   "pygments_lexer": "ipython2",
   "version": "2.7.6"
  }
 },
 "nbformat": 4,
 "nbformat_minor": 0
}
